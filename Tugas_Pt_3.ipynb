{
  "nbformat": 4,
  "nbformat_minor": 0,
  "metadata": {
    "colab": {
      "provenance": [],
      "authorship_tag": "ABX9TyMj2mIlgflKr/r6C9zO25oy",
      "include_colab_link": true
    },
    "kernelspec": {
      "name": "python3",
      "display_name": "Python 3"
    },
    "language_info": {
      "name": "python"
    }
  },
  "cells": [
    {
      "cell_type": "markdown",
      "metadata": {
        "id": "view-in-github",
        "colab_type": "text"
      },
      "source": [
        "<a href=\"https://colab.research.google.com/github/oohlizha/Tugas-Pt-2/blob/main/Tugas_Pt_3.ipynb\" target=\"_parent\"><img src=\"https://colab.research.google.com/assets/colab-badge.svg\" alt=\"Open In Colab\"/></a>"
      ]
    },
    {
      "cell_type": "code",
      "execution_count": 1,
      "metadata": {
        "colab": {
          "base_uri": "https://localhost:8080/"
        },
        "id": "_2J5HKboj2aX",
        "outputId": "4d1b9aea-1d42-4bea-8f86-7c9add4b00fe"
      },
      "outputs": [
        {
          "output_type": "stream",
          "name": "stdout",
          "text": [
            "Requirement already satisfied: pandas in /usr/local/lib/python3.10/dist-packages (1.5.3)\n",
            "Requirement already satisfied: python-dateutil>=2.8.1 in /usr/local/lib/python3.10/dist-packages (from pandas) (2.8.2)\n",
            "Requirement already satisfied: pytz>=2020.1 in /usr/local/lib/python3.10/dist-packages (from pandas) (2023.4)\n",
            "Requirement already satisfied: numpy>=1.21.0 in /usr/local/lib/python3.10/dist-packages (from pandas) (1.25.2)\n",
            "Requirement already satisfied: six>=1.5 in /usr/local/lib/python3.10/dist-packages (from python-dateutil>=2.8.1->pandas) (1.16.0)\n"
          ]
        }
      ],
      "source": [
        "pip install pandas"
      ]
    },
    {
      "cell_type": "code",
      "source": [
        "import pandas as pd\n"
      ],
      "metadata": {
        "id": "talX0x-nj-r6"
      },
      "execution_count": 4,
      "outputs": []
    },
    {
      "cell_type": "code",
      "source": [
        "DataMahasiswa = {\n",
        "    'Name': [\"Bada Lee\", \"Kenzo\", \"Issa\"],\n",
        "    'Gender': [\"Perempuan\", \"Laki-laki\", \"Perempuan\"],\n",
        "    'Notelp': [\"0987654567\", \"098765445\", \"098765434\"]\n",
        "}\n",
        "\n",
        "dm = pd.DataFrame(DataMahasiswa)\n",
        "print(dm)"
      ],
      "metadata": {
        "colab": {
          "base_uri": "https://localhost:8080/"
        },
        "id": "DBmd86C_k0Xb",
        "outputId": "804bb85c-f071-4e1e-f9cc-dc054958ebea"
      },
      "execution_count": 5,
      "outputs": [
        {
          "output_type": "stream",
          "name": "stdout",
          "text": [
            "       Name     Gender      Notelp\n",
            "0  Bada Lee  Perempuan  0987654567\n",
            "1     Kenzo  Laki-laki   098765445\n",
            "2      Issa  Perempuan   098765434\n"
          ]
        }
      ]
    },
    {
      "cell_type": "code",
      "source": [
        "DataMahasiswa = {\n",
        "    'Name': [\"Bada Lee\", \"Kenzo\", \"Issa\"],\n",
        "    'Gender': [\"Perempuan\", \"Laki-laki\", \"Perempuan\"],\n",
        "    'Notelp': [\"0987654567\", \"098765445\", \"098765434\"],\n",
        "    'Tugas': [98,95,94],\n",
        "    'Uts': [89,80,97],\n",
        "    'Uas': [98,93,90],\n",
        "}\n",
        "\n",
        "dm = pd.DataFrame(DataMahasiswa)\n",
        "print(dm)"
      ],
      "metadata": {
        "colab": {
          "base_uri": "https://localhost:8080/"
        },
        "id": "U3IGcHERk9et",
        "outputId": "a6de7d74-8642-4d02-d693-7ffaa5f1fecb"
      },
      "execution_count": 7,
      "outputs": [
        {
          "output_type": "stream",
          "name": "stdout",
          "text": [
            "       Name     Gender      Notelp  Tugas  Uts  Uas\n",
            "0  Bada Lee  Perempuan  0987654567     98   89   98\n",
            "1     Kenzo  Laki-laki   098765445     95   80   93\n",
            "2      Issa  Perempuan   098765434     94   97   90\n"
          ]
        }
      ]
    },
    {
      "cell_type": "code",
      "source": [
        "DataMahasiswa = {\n",
        "    'Name': [\"Bada Lee\", \"Kenzo\", \"Issa\"],\n",
        "    'Gender': [\"Perempuan\", \"Laki-laki\", \"Perempuan\"],\n",
        "    'Notelp': [\"0987654567\", \"098765445\", \"098765434\"],\n",
        "    'Tugas': [98,95,94],\n",
        "    'Uts': [89,80,97],\n",
        "    'Uas': [98,93,90],\n",
        "}\n",
        "\n",
        "dm = pd.DataFrame(DataMahasiswa)\n",
        "dm['Nilai Akhir'] = (0.3 * dm['Tugas'] + 0.3 * dm['Uts'] + 0.4 * dm['Uas']).round(2)\n",
        "print(dm)"
      ],
      "metadata": {
        "colab": {
          "base_uri": "https://localhost:8080/"
        },
        "id": "JWldg0_IlWiC",
        "outputId": "26168418-8742-46ea-c817-aac7d377917f"
      },
      "execution_count": 11,
      "outputs": [
        {
          "output_type": "stream",
          "name": "stdout",
          "text": [
            "       Name     Gender      Notelp  Tugas  Uts  Uas  Nilai Akhir\n",
            "0  Bada Lee  Perempuan  0987654567     98   89   98         95.3\n",
            "1     Kenzo  Laki-laki   098765445     95   80   93         89.7\n",
            "2      Issa  Perempuan   098765434     94   97   90         93.3\n"
          ]
        }
      ]
    },
    {
      "cell_type": "code",
      "source": [],
      "metadata": {
        "id": "vnIDR4_2l09v"
      },
      "execution_count": null,
      "outputs": []
    }
  ]
}